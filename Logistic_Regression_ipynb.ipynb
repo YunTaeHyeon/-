{
  "nbformat": 4,
  "nbformat_minor": 0,
  "metadata": {
    "colab": {
      "provenance": [],
      "include_colab_link": true
    },
    "kernelspec": {
      "name": "python3",
      "display_name": "Python 3"
    },
    "language_info": {
      "name": "python"
    }
  },
  "cells": [
    {
      "cell_type": "markdown",
      "metadata": {
        "id": "view-in-github",
        "colab_type": "text"
      },
      "source": [
        "<a href=\"https://colab.research.google.com/github/YunTaeHyeon/AILab/blob/main/Logistic_Regression_ipynb.ipynb\" target=\"_parent\"><img src=\"https://colab.research.google.com/assets/colab-badge.svg\" alt=\"Open In Colab\"/></a>"
      ]
    },
    {
      "cell_type": "code",
      "execution_count": 8,
      "metadata": {
        "id": "l0938gqcAd-Q"
      },
      "outputs": [],
      "source": [
        "from sklearn.linear_model import LogisticRegression\n",
        "from sklearn.preprocessing import StandardScaler\n",
        "from sklearn.model_selection import train_test_split\n",
        "import matplotlib.pyplot as plt\n",
        "import seaborn as sns\n",
        "import pandas as pd\n",
        "import numpy as np"
      ]
    },
    {
      "cell_type": "code",
      "source": [
        "df = pd.read_csv(\"/content/train_pre.csv\")\n",
        "df_test = pd.read_csv('/content/test_pre.csv')\n",
        "\n",
        "\n",
        "print(df.shape, df_test.shape)\n",
        "print(df.head())"
      ],
      "metadata": {
        "colab": {
          "base_uri": "https://localhost:8080/"
        },
        "id": "YJsdInNQBdYs",
        "outputId": "797c95b7-aafc-455d-b1df-50386cc9bed0"
      },
      "execution_count": 10,
      "outputs": [
        {
          "output_type": "stream",
          "name": "stdout",
          "text": [
            "(891, 10) (418, 10)\n",
            "   Unnamed: 0  Survived  Pclass  Sex  Ticket  Embarked  Title  Fare_level  \\\n",
            "0           0         0       3    0       1         2      1           0   \n",
            "1           1         1       1    1       1         0      3           3   \n",
            "2           2         1       3    1       1         2      2           1   \n",
            "3           3         1       1    1       2         2      3           3   \n",
            "4           4         0       3    0       1         2      1           1   \n",
            "\n",
            "   Fellow  Age_class  \n",
            "0       1          2  \n",
            "1       1          3  \n",
            "2       0          2  \n",
            "3       1          3  \n",
            "4       0          3  \n"
          ]
        }
      ]
    },
    {
      "cell_type": "code",
      "source": [
        "#이상치 제거와 결측치 제거가 끝났기에 Min_Max를 이용하여 정규화\n",
        "normalization_df = (df - df.min())/(df.max() - df.min())\n",
        "print(normalization_df)\n",
        "print(df.isnull().sum().sum())\n",
        "normalization_df_test = (df_test - df_test.min())/(df_test.max() - df_test.min())\n",
        "print(normalization_df_test)\n",
        "print(df_test.isnull().sum().sum())"
      ],
      "metadata": {
        "id": "p-wHvWRpGD3j",
        "colab": {
          "base_uri": "https://localhost:8080/"
        },
        "outputId": "7cb61be7-2752-4898-d6d5-28a8945495fb"
      },
      "execution_count": 46,
      "outputs": [
        {
          "output_type": "stream",
          "name": "stdout",
          "text": [
            "     Unnamed: 0  Survived  Pclass  Sex    Ticket  Embarked  Title  Fare_level  \\\n",
            "0      0.000000       0.0     1.0  0.0  0.000000       1.0   0.00    0.000000   \n",
            "1      0.001124       1.0     0.0  1.0  0.000000       0.0   0.50    1.000000   \n",
            "2      0.002247       1.0     1.0  1.0  0.000000       1.0   0.25    0.333333   \n",
            "3      0.003371       1.0     0.0  1.0  0.166667       1.0   0.50    1.000000   \n",
            "4      0.004494       0.0     1.0  0.0  0.000000       1.0   0.00    0.333333   \n",
            "..          ...       ...     ...  ...       ...       ...    ...         ...   \n",
            "886    0.995506       0.0     0.5  0.0  0.000000       1.0   1.00    0.333333   \n",
            "887    0.996629       1.0     0.0  1.0  0.000000       1.0   0.25    0.666667   \n",
            "888    0.997753       0.0     1.0  1.0  0.166667       1.0   0.25    0.666667   \n",
            "889    0.998876       1.0     0.0  0.0  0.000000       0.0   0.00    0.666667   \n",
            "890    1.000000       0.0     1.0  0.0  0.000000       0.5   0.00    0.000000   \n",
            "\n",
            "     Fellow  Age_class  \n",
            "0       1.0   0.285714  \n",
            "1       1.0   0.428571  \n",
            "2       0.0   0.285714  \n",
            "3       1.0   0.428571  \n",
            "4       0.0   0.428571  \n",
            "..      ...        ...  \n",
            "886     0.0   0.285714  \n",
            "887     0.0   0.142857  \n",
            "888     1.0   0.285714  \n",
            "889     0.0   0.285714  \n",
            "890     0.0   0.428571  \n",
            "\n",
            "[891 rows x 10 columns]\n",
            "0\n",
            "     Unnamed: 0  Survived  Pclass  Sex  Ticket  Embarked  Title  Fare_level  \\\n",
            "0      0.000000       0.0     1.0  0.0     0.0       0.5   0.00    0.000000   \n",
            "1      0.002398       1.0     1.0  1.0     0.0       1.0   0.50    0.000000   \n",
            "2      0.004796       0.0     0.5  0.0     0.0       0.5   0.00    0.333333   \n",
            "3      0.007194       0.0     1.0  0.0     0.0       1.0   0.00    0.333333   \n",
            "4      0.009592       1.0     1.0  1.0     0.0       1.0   0.50    0.333333   \n",
            "..          ...       ...     ...  ...     ...       ...    ...         ...   \n",
            "413    0.990408       0.0     1.0  0.0     0.0       1.0   0.00    0.333333   \n",
            "414    0.992806       1.0     0.0  1.0     0.0       0.0   1.00    1.000000   \n",
            "415    0.995204       0.0     1.0  0.0     0.0       1.0   0.00    0.000000   \n",
            "416    0.997602       0.0     1.0  0.0     0.0       1.0   0.00    0.333333   \n",
            "417    1.000000       0.0     1.0  0.0     0.0       0.0   0.75    0.666667   \n",
            "\n",
            "     Fellow  Age_class  \n",
            "0       0.0   0.428571  \n",
            "1       1.0   0.571429  \n",
            "2       0.0   0.857143  \n",
            "3       0.0   0.285714  \n",
            "4       1.0   0.285714  \n",
            "..      ...        ...  \n",
            "413     0.0   0.285714  \n",
            "414     0.0   0.428571  \n",
            "415     0.0   0.428571  \n",
            "416     0.0   0.285714  \n",
            "417     1.0   0.285714  \n",
            "\n",
            "[418 rows x 10 columns]\n",
            "0\n"
          ]
        }
      ]
    },
    {
      "cell_type": "code",
      "source": [
        "survived = normalization_df['Survived']\n",
        "features = normalization_df[['Pclass',\t'Sex',\t'Ticket',\t'Embarked',\t'Title',\t'Fare_level',\t'Fellow',\t'Age_class']]\n",
        "survived_test = normalization_df_test['Survived']\n",
        "features_test = normalization_df_test[['Pclass',\t'Sex',\t'Ticket',\t'Embarked',\t'Title',\t'Fare_level',\t'Fellow',\t'Age_class']]"
      ],
      "metadata": {
        "id": "lQj-T-6P--dV"
      },
      "execution_count": 24,
      "outputs": []
    },
    {
      "cell_type": "code",
      "source": [
        "scaler = StandardScaler()\n",
        "train_features = scaler.fit_transform(features)\n",
        "test_features = scaler.transform(features_test)"
      ],
      "metadata": {
        "id": "HYnud_68ATrH"
      },
      "execution_count": 13,
      "outputs": []
    },
    {
      "cell_type": "code",
      "source": [
        "model = LogisticRegression()\n",
        "model.fit(train_features, survived)"
      ],
      "metadata": {
        "colab": {
          "base_uri": "https://localhost:8080/"
        },
        "id": "XlTiTfwuB_w8",
        "outputId": "245a6dc0-d518-42e7-dc77-f46c0350e1d5"
      },
      "execution_count": 14,
      "outputs": [
        {
          "output_type": "execute_result",
          "data": {
            "text/plain": [
              "LogisticRegression()"
            ]
          },
          "metadata": {},
          "execution_count": 14
        }
      ]
    },
    {
      "cell_type": "code",
      "source": [
        "print(model.score(train_features, survived))"
      ],
      "metadata": {
        "colab": {
          "base_uri": "https://localhost:8080/"
        },
        "id": "UIPoA3k9CJr4",
        "outputId": "469bec72-5847-4821-c4bf-622de57acdab"
      },
      "execution_count": 15,
      "outputs": [
        {
          "output_type": "stream",
          "name": "stdout",
          "text": [
            "0.8103254769921436\n"
          ]
        }
      ]
    },
    {
      "cell_type": "code",
      "source": [
        "print(model.score(test_features, survived_test))"
      ],
      "metadata": {
        "colab": {
          "base_uri": "https://localhost:8080/"
        },
        "id": "hMlMMAakCfv2",
        "outputId": "be4fc619-9827-4161-9fbd-440b7a8e2d1b"
      },
      "execution_count": 16,
      "outputs": [
        {
          "output_type": "stream",
          "name": "stdout",
          "text": [
            "0.9425837320574163\n"
          ]
        }
      ]
    },
    {
      "cell_type": "code",
      "source": [
        "print(model.coef_)"
      ],
      "metadata": {
        "colab": {
          "base_uri": "https://localhost:8080/"
        },
        "id": "-K3cBttZCMRl",
        "outputId": "c3217dfe-4767-49b1-f17b-e064ef385b1c"
      },
      "execution_count": 17,
      "outputs": [
        {
          "output_type": "stream",
          "name": "stdout",
          "text": [
            "[[-0.76239947  1.0890855  -0.37310197 -0.2064705   0.44050999  0.24760605\n",
            "  -0.09582668 -0.42745086]]\n"
          ]
        }
      ]
    },
    {
      "cell_type": "code",
      "source": [
        "from sklearn.model_selection import KFold\n",
        "from sklearn.metrics import accuracy_score\n",
        "from sklearn.model_selection import cross_val_score\n",
        "\n",
        "kfold=KFold(n_splits=5)\n",
        "foldForTrain=cross_val_score(model, train_features, survived, cv=5)\n",
        "foldForTest=cross_val_score(model, test_features, survived_test,cv=5)\n",
        "\n",
        "print(foldForTrain.mean())\n",
        "print(foldForTest.mean())"
      ],
      "metadata": {
        "id": "OvVJertfOOYS",
        "colab": {
          "base_uri": "https://localhost:8080/"
        },
        "outputId": "cbf191b0-4ee3-412e-8a66-8a7b2db03c32"
      },
      "execution_count": 47,
      "outputs": [
        {
          "output_type": "stream",
          "name": "stdout",
          "text": [
            "0.8080848659845584\n",
            "1.0\n"
          ]
        }
      ]
    }
  ]
}