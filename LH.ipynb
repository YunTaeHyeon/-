{
  "nbformat": 4,
  "nbformat_minor": 0,
  "metadata": {
    "colab": {
      "provenance": [],
      "authorship_tag": "ABX9TyOlabu0WKiXocTkHIXHEac9",
      "include_colab_link": true
    },
    "kernelspec": {
      "name": "python3",
      "display_name": "Python 3"
    },
    "language_info": {
      "name": "python"
    }
  },
  "cells": [
    {
      "cell_type": "markdown",
      "metadata": {
        "id": "view-in-github",
        "colab_type": "text"
      },
      "source": [
        "<a href=\"https://colab.research.google.com/github/YunTaeHyeon/AILab/blob/main/LH.ipynb\" target=\"_parent\"><img src=\"https://colab.research.google.com/assets/colab-badge.svg\" alt=\"Open In Colab\"/></a>"
      ]
    },
    {
      "cell_type": "code",
      "execution_count": 174,
      "metadata": {
        "colab": {
          "base_uri": "https://localhost:8080/"
        },
        "id": "ITUWFwss6EKc",
        "outputId": "71087864-761c-4892-d8c2-a1cb0ee7ceac"
      },
      "outputs": [
        {
          "output_type": "stream",
          "name": "stdout",
          "text": [
            "Drive already mounted at /content/drive; to attempt to forcibly remount, call drive.mount(\"/content/drive\", force_remount=True).\n"
          ]
        }
      ],
      "source": [
        "from google.colab import drive\n",
        "drive.mount('/content/drive')"
      ]
    },
    {
      "cell_type": "code",
      "source": [
        "import pandas as pd\n",
        "import matplotlib.pyplot as plt\n",
        "import seaborn as sns\n",
        "import numpy as np\n",
        "import math"
      ],
      "metadata": {
        "id": "Lm53Oy487zcI"
      },
      "execution_count": 193,
      "outputs": []
    },
    {
      "cell_type": "code",
      "source": [
        "df_train=pd.read_csv('/content/drive/MyDrive/LHTrainTest/train.csv')\n",
        "df_test=pd.read_csv('/content/drive/MyDrive/LHTrainTest/test.csv')\n",
        "\n",
        "df_train\n"
      ],
      "metadata": {
        "id": "05oX5ru17C4p",
        "colab": {
          "base_uri": "https://localhost:8080/",
          "height": 659
        },
        "outputId": "01cfc223-c029-4d9f-907f-a7ae69b9e476"
      },
      "execution_count": 194,
      "outputs": [
        {
          "output_type": "execute_result",
          "data": {
            "text/plain": [
              "              일자 요일  본사정원수  본사휴가자수  본사출장자수  본사시간외근무명령서승인건수  현본사소속재택근무자수  \\\n",
              "0     2016-02-01  월   2601      50     150             238          0.0   \n",
              "1     2016-02-02  화   2601      50     173             319          0.0   \n",
              "2     2016-02-03  수   2601      56     180             111          0.0   \n",
              "3     2016-02-04  목   2601     104     220             355          0.0   \n",
              "4     2016-02-05  금   2601     278     181              34          0.0   \n",
              "...          ... ..    ...     ...     ...             ...          ...   \n",
              "1200  2021-01-20  수   2983      75     198               4        391.0   \n",
              "1201  2021-01-21  목   2983      92     231             462        351.0   \n",
              "1202  2021-01-22  금   2983     255     248               1        303.0   \n",
              "1203  2021-01-25  월   2983     107     153             616        327.0   \n",
              "1204  2021-01-26  화   2983      69     183             551        362.0   \n",
              "\n",
              "                                                   조식메뉴  \\\n",
              "0     모닝롤/찐빵  우유/두유/주스 계란후라이  호두죽/쌀밥 (쌀:국내산) 된장찌개  쥐...   \n",
              "1     모닝롤/단호박샌드  우유/두유/주스 계란후라이  팥죽/쌀밥 (쌀:국내산) 호박젓국찌...   \n",
              "2     모닝롤/베이글  우유/두유/주스 계란후라이  표고버섯죽/쌀밥 (쌀:국내산) 콩나물국...   \n",
              "3     모닝롤/토마토샌드  우유/두유/주스 계란후라이  닭죽/쌀밥 (쌀,닭:국내산) 근대국...   \n",
              "4     모닝롤/와플  우유/두유/주스 계란후라이  쇠고기죽/쌀밥 (쌀:국내산) 재첩국  방...   \n",
              "...                                                 ...   \n",
              "1200  모닝롤/페퍼로니피자 우유/주스 계란후라이/찐계란 크루통크림스프/흑미밥 아귀지리 마늘...   \n",
              "1201  모닝롤/생크림단팥빵 우유/주스 계란후라이/찐계란 누룽지탕/흑미밥 떡국 해물땡굴소스볶...   \n",
              "1202  모닝롤/BLT샌드위치 우유/주스 계란후라이/찐계란 흑임자죽/흑미밥 바지락살국 두부조...   \n",
              "1203  모닝롤/호박고구마오븐구이 우유/주스 계란후라이/찐계란 누룽지탕/흑미밥 감자양파국 분...   \n",
              "1204  모닝롤/야채샌드 우유/주스 계란후라이/찐계란 참치죽/흑미밥 홍합탕 애호박새우젓볶음 ...   \n",
              "\n",
              "                                                   중식메뉴  \\\n",
              "0     쌀밥/잡곡밥 (쌀,현미흑미:국내산) 오징어찌개  쇠불고기 (쇠고기:호주산) 계란찜 ...   \n",
              "1     쌀밥/잡곡밥 (쌀,현미흑미:국내산) 김치찌개  가자미튀김  모둠소세지구이  마늘쫑무...   \n",
              "2     카레덮밥 (쌀,현미흑미:국내산) 팽이장국  치킨핑거 (닭고기:국내산) 쫄면야채무침 ...   \n",
              "3     쌀밥/잡곡밥 (쌀,현미흑미:국내산) 쇠고기무국  주꾸미볶음  부추전  시금치나물  ...   \n",
              "4     쌀밥/잡곡밥 (쌀,현미흑미:국내산) 떡국  돈육씨앗강정 (돼지고기:국내산) 우엉잡채...   \n",
              "...                                                 ...   \n",
              "1200  쌀밥/흑미밥/찰현미밥 아욱국 수제함박스테이크 견과류마카로니범벅 생깻잎지 단호박물김치...   \n",
              "1201  쌀밥/수수밥/찰현미밥 냉이된장국 동파육 봄동전 청경채/버섯숙회*초장 무생채 양상추샐...   \n",
              "1202  전주비빔밥*약고추장 계란파국 요거닭 올방개묵무침 파프리카해초무침 포기김치 양상추샐러...   \n",
              "1203  쌀밥/흑미밥/찰현미밥 전주식콩나물해장국 돈육간장불고기 깐풍연근 연두부*달래양념장 봄...   \n",
              "1204  쌀밥/귀리밥/찰현미밥 들깨미역국 교촌간장치킨 옥수수콘치즈구이 가지고추장무침 포기김치...   \n",
              "\n",
              "                                                   석식메뉴     중식계    석식계  \n",
              "0     쌀밥/잡곡밥 (쌀,현미흑미:국내산) 육개장  자반고등어구이  두부조림  건파래무침 ...  1039.0  331.0  \n",
              "1     콩나물밥*양념장 (쌀,현미흑미:국내산) 어묵국  유산슬 (쇠고기:호주산) 아삭고추무...   867.0  560.0  \n",
              "2     쌀밥/잡곡밥 (쌀,현미흑미:국내산) 청국장찌개  황태양념구이 (황태:러시아산) 고기...  1017.0  573.0  \n",
              "3     미니김밥*겨자장 (쌀,현미흑미:국내산) 우동  멕시칸샐러드  군고구마  무피클  포...   978.0  525.0  \n",
              "4     쌀밥/잡곡밥 (쌀,현미흑미:국내산) 차돌박이찌개 (쇠고기:호주산) 닭갈비 (닭고기:...   925.0  330.0  \n",
              "...                                                 ...     ...    ...  \n",
              "1200     김치볶음밥 미니쫄우동*맛살튀김 브로콜리깨소스무침 계란후라이 고들빼기무침 겉절이김치   1093.0  421.0  \n",
              "1201            흑미밥 쇠고기무국 삼치양념구이 비엔나채소볶음 숙주나물당근무침 포기김치    832.0  353.0  \n",
              "1202        흑미밥 수제비국 수제맛쵸킹탕수육 유부채소겨자냉채 참나물무침 갓김치/겉절이김치    579.0  217.0  \n",
              "1203            흑미밥 열무된장국 장어강정*데리야끼소스 깻잎쌈*생강채 오이선 포기김치   1145.0  502.0  \n",
              "1204         (New)할라피뇨멸치주먹밥 잔치국수 수제고기육전 쑥갓나물 양파초절임 깍두기   1015.0  480.0  \n",
              "\n",
              "[1205 rows x 12 columns]"
            ],
            "text/html": [
              "\n",
              "  <div id=\"df-3a4e20e8-e2e9-4e15-af52-4f4a37b62b03\">\n",
              "    <div class=\"colab-df-container\">\n",
              "      <div>\n",
              "<style scoped>\n",
              "    .dataframe tbody tr th:only-of-type {\n",
              "        vertical-align: middle;\n",
              "    }\n",
              "\n",
              "    .dataframe tbody tr th {\n",
              "        vertical-align: top;\n",
              "    }\n",
              "\n",
              "    .dataframe thead th {\n",
              "        text-align: right;\n",
              "    }\n",
              "</style>\n",
              "<table border=\"1\" class=\"dataframe\">\n",
              "  <thead>\n",
              "    <tr style=\"text-align: right;\">\n",
              "      <th></th>\n",
              "      <th>일자</th>\n",
              "      <th>요일</th>\n",
              "      <th>본사정원수</th>\n",
              "      <th>본사휴가자수</th>\n",
              "      <th>본사출장자수</th>\n",
              "      <th>본사시간외근무명령서승인건수</th>\n",
              "      <th>현본사소속재택근무자수</th>\n",
              "      <th>조식메뉴</th>\n",
              "      <th>중식메뉴</th>\n",
              "      <th>석식메뉴</th>\n",
              "      <th>중식계</th>\n",
              "      <th>석식계</th>\n",
              "    </tr>\n",
              "  </thead>\n",
              "  <tbody>\n",
              "    <tr>\n",
              "      <th>0</th>\n",
              "      <td>2016-02-01</td>\n",
              "      <td>월</td>\n",
              "      <td>2601</td>\n",
              "      <td>50</td>\n",
              "      <td>150</td>\n",
              "      <td>238</td>\n",
              "      <td>0.0</td>\n",
              "      <td>모닝롤/찐빵  우유/두유/주스 계란후라이  호두죽/쌀밥 (쌀:국내산) 된장찌개  쥐...</td>\n",
              "      <td>쌀밥/잡곡밥 (쌀,현미흑미:국내산) 오징어찌개  쇠불고기 (쇠고기:호주산) 계란찜 ...</td>\n",
              "      <td>쌀밥/잡곡밥 (쌀,현미흑미:국내산) 육개장  자반고등어구이  두부조림  건파래무침 ...</td>\n",
              "      <td>1039.0</td>\n",
              "      <td>331.0</td>\n",
              "    </tr>\n",
              "    <tr>\n",
              "      <th>1</th>\n",
              "      <td>2016-02-02</td>\n",
              "      <td>화</td>\n",
              "      <td>2601</td>\n",
              "      <td>50</td>\n",
              "      <td>173</td>\n",
              "      <td>319</td>\n",
              "      <td>0.0</td>\n",
              "      <td>모닝롤/단호박샌드  우유/두유/주스 계란후라이  팥죽/쌀밥 (쌀:국내산) 호박젓국찌...</td>\n",
              "      <td>쌀밥/잡곡밥 (쌀,현미흑미:국내산) 김치찌개  가자미튀김  모둠소세지구이  마늘쫑무...</td>\n",
              "      <td>콩나물밥*양념장 (쌀,현미흑미:국내산) 어묵국  유산슬 (쇠고기:호주산) 아삭고추무...</td>\n",
              "      <td>867.0</td>\n",
              "      <td>560.0</td>\n",
              "    </tr>\n",
              "    <tr>\n",
              "      <th>2</th>\n",
              "      <td>2016-02-03</td>\n",
              "      <td>수</td>\n",
              "      <td>2601</td>\n",
              "      <td>56</td>\n",
              "      <td>180</td>\n",
              "      <td>111</td>\n",
              "      <td>0.0</td>\n",
              "      <td>모닝롤/베이글  우유/두유/주스 계란후라이  표고버섯죽/쌀밥 (쌀:국내산) 콩나물국...</td>\n",
              "      <td>카레덮밥 (쌀,현미흑미:국내산) 팽이장국  치킨핑거 (닭고기:국내산) 쫄면야채무침 ...</td>\n",
              "      <td>쌀밥/잡곡밥 (쌀,현미흑미:국내산) 청국장찌개  황태양념구이 (황태:러시아산) 고기...</td>\n",
              "      <td>1017.0</td>\n",
              "      <td>573.0</td>\n",
              "    </tr>\n",
              "    <tr>\n",
              "      <th>3</th>\n",
              "      <td>2016-02-04</td>\n",
              "      <td>목</td>\n",
              "      <td>2601</td>\n",
              "      <td>104</td>\n",
              "      <td>220</td>\n",
              "      <td>355</td>\n",
              "      <td>0.0</td>\n",
              "      <td>모닝롤/토마토샌드  우유/두유/주스 계란후라이  닭죽/쌀밥 (쌀,닭:국내산) 근대국...</td>\n",
              "      <td>쌀밥/잡곡밥 (쌀,현미흑미:국내산) 쇠고기무국  주꾸미볶음  부추전  시금치나물  ...</td>\n",
              "      <td>미니김밥*겨자장 (쌀,현미흑미:국내산) 우동  멕시칸샐러드  군고구마  무피클  포...</td>\n",
              "      <td>978.0</td>\n",
              "      <td>525.0</td>\n",
              "    </tr>\n",
              "    <tr>\n",
              "      <th>4</th>\n",
              "      <td>2016-02-05</td>\n",
              "      <td>금</td>\n",
              "      <td>2601</td>\n",
              "      <td>278</td>\n",
              "      <td>181</td>\n",
              "      <td>34</td>\n",
              "      <td>0.0</td>\n",
              "      <td>모닝롤/와플  우유/두유/주스 계란후라이  쇠고기죽/쌀밥 (쌀:국내산) 재첩국  방...</td>\n",
              "      <td>쌀밥/잡곡밥 (쌀,현미흑미:국내산) 떡국  돈육씨앗강정 (돼지고기:국내산) 우엉잡채...</td>\n",
              "      <td>쌀밥/잡곡밥 (쌀,현미흑미:국내산) 차돌박이찌개 (쇠고기:호주산) 닭갈비 (닭고기:...</td>\n",
              "      <td>925.0</td>\n",
              "      <td>330.0</td>\n",
              "    </tr>\n",
              "    <tr>\n",
              "      <th>...</th>\n",
              "      <td>...</td>\n",
              "      <td>...</td>\n",
              "      <td>...</td>\n",
              "      <td>...</td>\n",
              "      <td>...</td>\n",
              "      <td>...</td>\n",
              "      <td>...</td>\n",
              "      <td>...</td>\n",
              "      <td>...</td>\n",
              "      <td>...</td>\n",
              "      <td>...</td>\n",
              "      <td>...</td>\n",
              "    </tr>\n",
              "    <tr>\n",
              "      <th>1200</th>\n",
              "      <td>2021-01-20</td>\n",
              "      <td>수</td>\n",
              "      <td>2983</td>\n",
              "      <td>75</td>\n",
              "      <td>198</td>\n",
              "      <td>4</td>\n",
              "      <td>391.0</td>\n",
              "      <td>모닝롤/페퍼로니피자 우유/주스 계란후라이/찐계란 크루통크림스프/흑미밥 아귀지리 마늘...</td>\n",
              "      <td>쌀밥/흑미밥/찰현미밥 아욱국 수제함박스테이크 견과류마카로니범벅 생깻잎지 단호박물김치...</td>\n",
              "      <td>김치볶음밥 미니쫄우동*맛살튀김 브로콜리깨소스무침 계란후라이 고들빼기무침 겉절이김치</td>\n",
              "      <td>1093.0</td>\n",
              "      <td>421.0</td>\n",
              "    </tr>\n",
              "    <tr>\n",
              "      <th>1201</th>\n",
              "      <td>2021-01-21</td>\n",
              "      <td>목</td>\n",
              "      <td>2983</td>\n",
              "      <td>92</td>\n",
              "      <td>231</td>\n",
              "      <td>462</td>\n",
              "      <td>351.0</td>\n",
              "      <td>모닝롤/생크림단팥빵 우유/주스 계란후라이/찐계란 누룽지탕/흑미밥 떡국 해물땡굴소스볶...</td>\n",
              "      <td>쌀밥/수수밥/찰현미밥 냉이된장국 동파육 봄동전 청경채/버섯숙회*초장 무생채 양상추샐...</td>\n",
              "      <td>흑미밥 쇠고기무국 삼치양념구이 비엔나채소볶음 숙주나물당근무침 포기김치</td>\n",
              "      <td>832.0</td>\n",
              "      <td>353.0</td>\n",
              "    </tr>\n",
              "    <tr>\n",
              "      <th>1202</th>\n",
              "      <td>2021-01-22</td>\n",
              "      <td>금</td>\n",
              "      <td>2983</td>\n",
              "      <td>255</td>\n",
              "      <td>248</td>\n",
              "      <td>1</td>\n",
              "      <td>303.0</td>\n",
              "      <td>모닝롤/BLT샌드위치 우유/주스 계란후라이/찐계란 흑임자죽/흑미밥 바지락살국 두부조...</td>\n",
              "      <td>전주비빔밥*약고추장 계란파국 요거닭 올방개묵무침 파프리카해초무침 포기김치 양상추샐러...</td>\n",
              "      <td>흑미밥 수제비국 수제맛쵸킹탕수육 유부채소겨자냉채 참나물무침 갓김치/겉절이김치</td>\n",
              "      <td>579.0</td>\n",
              "      <td>217.0</td>\n",
              "    </tr>\n",
              "    <tr>\n",
              "      <th>1203</th>\n",
              "      <td>2021-01-25</td>\n",
              "      <td>월</td>\n",
              "      <td>2983</td>\n",
              "      <td>107</td>\n",
              "      <td>153</td>\n",
              "      <td>616</td>\n",
              "      <td>327.0</td>\n",
              "      <td>모닝롤/호박고구마오븐구이 우유/주스 계란후라이/찐계란 누룽지탕/흑미밥 감자양파국 분...</td>\n",
              "      <td>쌀밥/흑미밥/찰현미밥 전주식콩나물해장국 돈육간장불고기 깐풍연근 연두부*달래양념장 봄...</td>\n",
              "      <td>흑미밥 열무된장국 장어강정*데리야끼소스 깻잎쌈*생강채 오이선 포기김치</td>\n",
              "      <td>1145.0</td>\n",
              "      <td>502.0</td>\n",
              "    </tr>\n",
              "    <tr>\n",
              "      <th>1204</th>\n",
              "      <td>2021-01-26</td>\n",
              "      <td>화</td>\n",
              "      <td>2983</td>\n",
              "      <td>69</td>\n",
              "      <td>183</td>\n",
              "      <td>551</td>\n",
              "      <td>362.0</td>\n",
              "      <td>모닝롤/야채샌드 우유/주스 계란후라이/찐계란 참치죽/흑미밥 홍합탕 애호박새우젓볶음 ...</td>\n",
              "      <td>쌀밥/귀리밥/찰현미밥 들깨미역국 교촌간장치킨 옥수수콘치즈구이 가지고추장무침 포기김치...</td>\n",
              "      <td>(New)할라피뇨멸치주먹밥 잔치국수 수제고기육전 쑥갓나물 양파초절임 깍두기</td>\n",
              "      <td>1015.0</td>\n",
              "      <td>480.0</td>\n",
              "    </tr>\n",
              "  </tbody>\n",
              "</table>\n",
              "<p>1205 rows × 12 columns</p>\n",
              "</div>\n",
              "      <button class=\"colab-df-convert\" onclick=\"convertToInteractive('df-3a4e20e8-e2e9-4e15-af52-4f4a37b62b03')\"\n",
              "              title=\"Convert this dataframe to an interactive table.\"\n",
              "              style=\"display:none;\">\n",
              "        \n",
              "  <svg xmlns=\"http://www.w3.org/2000/svg\" height=\"24px\"viewBox=\"0 0 24 24\"\n",
              "       width=\"24px\">\n",
              "    <path d=\"M0 0h24v24H0V0z\" fill=\"none\"/>\n",
              "    <path d=\"M18.56 5.44l.94 2.06.94-2.06 2.06-.94-2.06-.94-.94-2.06-.94 2.06-2.06.94zm-11 1L8.5 8.5l.94-2.06 2.06-.94-2.06-.94L8.5 2.5l-.94 2.06-2.06.94zm10 10l.94 2.06.94-2.06 2.06-.94-2.06-.94-.94-2.06-.94 2.06-2.06.94z\"/><path d=\"M17.41 7.96l-1.37-1.37c-.4-.4-.92-.59-1.43-.59-.52 0-1.04.2-1.43.59L10.3 9.45l-7.72 7.72c-.78.78-.78 2.05 0 2.83L4 21.41c.39.39.9.59 1.41.59.51 0 1.02-.2 1.41-.59l7.78-7.78 2.81-2.81c.8-.78.8-2.07 0-2.86zM5.41 20L4 18.59l7.72-7.72 1.47 1.35L5.41 20z\"/>\n",
              "  </svg>\n",
              "      </button>\n",
              "      \n",
              "  <style>\n",
              "    .colab-df-container {\n",
              "      display:flex;\n",
              "      flex-wrap:wrap;\n",
              "      gap: 12px;\n",
              "    }\n",
              "\n",
              "    .colab-df-convert {\n",
              "      background-color: #E8F0FE;\n",
              "      border: none;\n",
              "      border-radius: 50%;\n",
              "      cursor: pointer;\n",
              "      display: none;\n",
              "      fill: #1967D2;\n",
              "      height: 32px;\n",
              "      padding: 0 0 0 0;\n",
              "      width: 32px;\n",
              "    }\n",
              "\n",
              "    .colab-df-convert:hover {\n",
              "      background-color: #E2EBFA;\n",
              "      box-shadow: 0px 1px 2px rgba(60, 64, 67, 0.3), 0px 1px 3px 1px rgba(60, 64, 67, 0.15);\n",
              "      fill: #174EA6;\n",
              "    }\n",
              "\n",
              "    [theme=dark] .colab-df-convert {\n",
              "      background-color: #3B4455;\n",
              "      fill: #D2E3FC;\n",
              "    }\n",
              "\n",
              "    [theme=dark] .colab-df-convert:hover {\n",
              "      background-color: #434B5C;\n",
              "      box-shadow: 0px 1px 3px 1px rgba(0, 0, 0, 0.15);\n",
              "      filter: drop-shadow(0px 1px 2px rgba(0, 0, 0, 0.3));\n",
              "      fill: #FFFFFF;\n",
              "    }\n",
              "  </style>\n",
              "\n",
              "      <script>\n",
              "        const buttonEl =\n",
              "          document.querySelector('#df-3a4e20e8-e2e9-4e15-af52-4f4a37b62b03 button.colab-df-convert');\n",
              "        buttonEl.style.display =\n",
              "          google.colab.kernel.accessAllowed ? 'block' : 'none';\n",
              "\n",
              "        async function convertToInteractive(key) {\n",
              "          const element = document.querySelector('#df-3a4e20e8-e2e9-4e15-af52-4f4a37b62b03');\n",
              "          const dataTable =\n",
              "            await google.colab.kernel.invokeFunction('convertToInteractive',\n",
              "                                                     [key], {});\n",
              "          if (!dataTable) return;\n",
              "\n",
              "          const docLinkHtml = 'Like what you see? Visit the ' +\n",
              "            '<a target=\"_blank\" href=https://colab.research.google.com/notebooks/data_table.ipynb>data table notebook</a>'\n",
              "            + ' to learn more about interactive tables.';\n",
              "          element.innerHTML = '';\n",
              "          dataTable['output_type'] = 'display_data';\n",
              "          await google.colab.output.renderOutput(dataTable, element);\n",
              "          const docLink = document.createElement('div');\n",
              "          docLink.innerHTML = docLinkHtml;\n",
              "          element.appendChild(docLink);\n",
              "        }\n",
              "      </script>\n",
              "    </div>\n",
              "  </div>\n",
              "  "
            ]
          },
          "metadata": {},
          "execution_count": 194
        }
      ]
    },
    {
      "cell_type": "markdown",
      "source": [
        "# 중식 메뉴 카테고리화 하기"
      ],
      "metadata": {
        "id": "QgOZICqq88vt"
      }
    },
    {
      "cell_type": "code",
      "source": [
        "train_list1=df_train['조식메뉴']\n",
        "\n",
        "split_list1 = [element.split(' ') for element in train_list1] #스플릿\n",
        "\n",
        "# Convert the list of lists to a numpy array\n",
        "split_array1 = np.concatenate(split_list1) #스플릿한거 한줄로 넘파이로 만들어서 붙임\n",
        "unique_array1=np.unique(split_array1) #중복되는거 날려버림\n",
        "new_array1 = np.array([x for x in unique_array1 if all(word not in x for word in '(' )]) #포함하는 거 날려버리\n",
        "new_array1 = np.array([x for x in new_array1 if all(word not in x for word in '<' )])\n",
        "new_array1 = np.array([x for x in new_array1 if all(word not in x for word in '' )])\n",
        "new_array1 = np.array([x for x in new_array1 if all(word not in x for word in '*' )])\n",
        "print(\"조식 메뉴 가짓수: \",len(new_array1)) \n",
        "\n",
        "\n",
        "train_list2=df_train['중식메뉴']\n",
        "\n",
        "split_list2 = [element.split(' ') for element in train_list2] #스플릿\n",
        "\n",
        "# Convert the list of lists to a numpy array\n",
        "split_array2 = np.concatenate(split_list2) #스플릿한거 한줄로 넘파이로 만들어서 붙임\n",
        "unique_array2=np.unique(split_array2) #중복되는거 날려버림\n",
        "new_array2 = np.array([x for x in unique_array2 if all(word not in x for word in '(' )]) #포함하는 거 날려버리\n",
        "new_array2 = np.array([x for x in new_array2 if all(word not in x for word in '<' )])\n",
        "new_array2 = np.array([x for x in new_array2 if all(word not in x for word in '' )])\n",
        "new_array2 = np.array([x for x in new_array2 if all(word not in x for word in '*' )])\n",
        "print(\"중식 메뉴 가짓수: \",len(new_array2)) \n",
        "\n",
        "\n",
        "train_list3=df_train['석식메뉴']\n",
        "\n",
        "split_list3 = [element.split(' ') for element in train_list3] #스플릿\n",
        "\n",
        "# Convert the list of lists to a numpy array\n",
        "split_array3 = np.concatenate(split_list3) #스플릿한거 한줄로 넘파이로 만들어서 붙임\n",
        "unique_array3=np.unique(split_array3) #중복되는거 날려버림\n",
        "new_array3 = np.array([x for x in unique_array3 if all(word not in x for word in '(' )]) #포함하는 거 날려버리\n",
        "new_array3 = np.array([x for x in new_array3 if all(word not in x for word in '<' )])\n",
        "new_array3 = np.array([x for x in new_array3 if all(word not in x for word in '' )])\n",
        "new_array3 = np.array([x for x in new_array3 if all(word not in x for word in '*' )])\n",
        "print(\"석식 메뉴 가짓수: \",len(new_array3)) \n",
        "print(new_array3[:200])"
      ],
      "metadata": {
        "colab": {
          "base_uri": "https://localhost:8080/"
        },
        "id": "H2IH9ip-9U13",
        "outputId": "6040564f-c603-477f-db45-b2c03ad70e61"
      },
      "execution_count": 195,
      "outputs": [
        {
          "output_type": "stream",
          "name": "stdout",
          "text": [
            "조식 메뉴 가짓수:  766\n",
            "중식 메뉴 가짓수:  1479\n",
            "석식 메뉴 가짓수:  1548\n",
            "['' '가래떡오븐구이' '가쓰오장국' '가자미구이' '가자미양념조림' '가자미양념찜' '가자미엿장구이' '가자미찜'\n",
            " '가자미카레튀김' '가자미튀김' '가정의날' '가지나물' '가지된장무침' '가지마파두부' '가지무침' '가쯔오국' '가쯔오장국'\n",
            " '간장계란장' '간장깻잎지' '간장깻잎지/콘샐러드' '간장마늘치킨' '간장불고기' '간장찜닭' '간장치킨' '갈릭파닭' '갈비만두'\n",
            " '갈치구이' '갈치무조림' '갈치양념조림' '갈치조림' '갈치카레구이' '갈치튀김' '감자간장조림' '감자고추장찌개' '감자국'\n",
            " '감자만두' '감자만두/샐러드' '감자만두국' '감자버터구이' '감자범벅' '감자범벅/무피클' '감자범벅/양배추샐러드'\n",
            " '감자범벅/오이피클' '감자범벅/피클' '감자비엔나볶음' '감자샐러드' '감자소세지볶음' '감자양념조림' '감자양파국' '감자전'\n",
            " '감자찌개' '감자채볶음' '감자채카레볶음' '감자채파프리카볶음' '감자채햄볶음' '감자치즈구이' '감자치즈오븐구이'\n",
            " '감자카레볶음' '감자튀김' '감자튀김/무피클' '감자튀김/피클' '감자프리타타' '감자햄조림' '갓김치' '갓김치/겉절이김치'\n",
            " '개성감자만두' '건도토리묵파프리카볶음' '건새우마늘쫑볶음' '건새우아욱국' '건새우아욱된장국' '건새우호박채전' '건파래무침'\n",
            " '건파래볶음' '검정콩조림' '검정콩조림/귤' '겉절이김치' '겨울초겉절이' '견과류조림' '계란국' '계란김밥' '계란떡볶이'\n",
            " '계란말이' '계란볶음밥' '계란야채말이' '계란장조림' '계란찜' '계란파국' '계란후라이' '계란후라이/요구르트' '계발의'\n",
            " '고갈비구이' '고구마그라탕' '고구마떡볶이' '고구마맛탕' '고구마맛탕/오렌지' '고구마범벅' '고구마범벅/무피클'\n",
            " '고구마샐러드' '고구마순나물' '고구마순들깨볶음' '고구마순볶음' '고구마연근맛탕' '고구마오븐구이' '고구마치즈구이'\n",
            " '고구마치즈돈까스' '고구마튀김' '고구마튀김/음료' '고기전' '고기짬뽕국' '고들빼기무침' '고등어구이' '고등어김치말이'\n",
            " '고등어김치찜' '고등어양념구이' '고등어자반찜' '고등어조림' '고등어카레구이' '고르곤졸라피자' '고추,양파/쌈장'\n",
            " '고추가루:중국산)' '고추잡채' '고추잡채&꽃빵' '고추잡채덮밥' '고추장멸치볶음' '고추장불고기' '고추장찌개' '고추지무침'\n",
            " '고추짜장' '고추튀김' '고춧잎무침' '골뱅이무침&소면' '골뱅이채소무침&실곤약' '과일' '과일샐러드' '과일샐러드/단무지'\n",
            " '과일요거트샐러드' '과일주스' '과일탕수육' '과일플레인샐러드' '교자만두' '구슬떡볶이' '구운채소' '구이김' '국물떡볶이'\n",
            " '군고구마' '군만두' '굴미역국' '굴비구이' '굴소스볶음밥' '굴소스볶음밥/샐러드' '굴소스파인볶음밥' '굴소스해물볶음밥'\n",
            " '궁중떡볶음' '궁중떡볶이' '궁중떡찜' '귤' '귤/음료' '그린빈베이컨볶음' '그린요거트샐러드' '근대고추장무침' '근대국'\n",
            " '근대나물무침' '근대된장국' '근대두부된장국' '김가루잔파무침' '김계란말이' '김구이' '김말이&만두튀김' '김말이,고추튀김'\n",
            " '김말이강정' '김말이튀김' '김밥' '김밥/맑은국' '김밥볶음밥' '김자반' '김자반/치킨무' '김자반볶음' '김주먹밥'\n",
            " '김치고기전' '김치국' '김치국수' '김치녹두전' '김치두루치기' '김치두부국' '김치말이국수' '김치미나리전' '김치볶음'\n",
            " '김치볶음밥' '김치볶음밥/계란' '김치수제비국' '김치순두부찌개' '김치어묵국' '김치어묵탕' '김치우동' '김치전'\n",
            " '김치주먹밥' '김치찌개' '김치참치주먹밥' '김치콩나물국' '김치필라프']\n"
          ]
        }
      ]
    },
    {
      "cell_type": "markdown",
      "source": [
        "# 연도 별로 나눠보기"
      ],
      "metadata": {
        "id": "HK4vA_0XXhal"
      }
    },
    {
      "cell_type": "code",
      "source": [
        "train_list=df_train[:229] #1월 데이터 없음\n",
        "print(\"2016년 평균: \",train_list['중식계'].mean())\n",
        "\n",
        "train_list=df_train[229:473]\n",
        "print(\"2017년 평균: \",train_list['중식계'].mean())\n",
        "\n",
        "train_list=df_train[473:712]\n",
        "print(\"2018년 평균: \",train_list['중식계'].mean())\n",
        "\n",
        "train_list=df_train[712:958]\n",
        "print(\"2019년 평균: \",train_list['중식계'].mean())\n",
        "\n",
        "train_list=df_train[958:995] #대구 코로나 사태 전\n",
        "print(\"2020년 코로나 이전: \",train_list['중식계'].mean())\n",
        "\n",
        "train_list=df_train[995:] #대쿠 코로나 사태 후\n",
        "print(\"2020년 코로나 이후: \",train_list['중식계'].mean())\n",
        "\n",
        "#코로나가 생각보다 의미가 있는 것 같지는 않다?\n",
        "#사람이 많아져서 그런건가?\n",
        "#내일 출장인원 이런거까지 계산해서 해보기"
      ],
      "metadata": {
        "colab": {
          "base_uri": "https://localhost:8080/"
        },
        "id": "A0yUjUtEXhIf",
        "outputId": "900c3147-ac98-4576-decb-65190ca05383"
      },
      "execution_count": 196,
      "outputs": [
        {
          "output_type": "stream",
          "name": "stdout",
          "text": [
            "2016년 평균:  934.7510917030568\n",
            "2017년 평균:  896.4549180327868\n",
            "2018년 평균:  883.020920502092\n",
            "2019년 평균:  848.7276422764228\n",
            "2020년 코로나 이전:  896.2162162162163\n",
            "2020년 코로나 이후:  890.8142857142857\n"
          ]
        }
      ]
    },
    {
      "cell_type": "markdown",
      "source": [
        "# 요일별로 나누어 보기"
      ],
      "metadata": {
        "id": "RVvEPndeRB_O"
      }
    },
    {
      "cell_type": "code",
      "source": [
        "#mon tue wed thu fri sat sun\n",
        "mon=df_train[df_train[\"요일\"]==\"월\"]\n",
        "tue=df_train[df_train[\"요일\"]==\"화\"]\n",
        "wed=df_train[df_train[\"요일\"]==\"수\"]\n",
        "thu=df_train[df_train[\"요일\"]==\"목\"]\n",
        "fri=df_train[df_train[\"요일\"]==\"금\"]\n",
        "\n",
        "#print(len(df_train)-len(mon)-len(tue)-len(wed)-len(thu)-len(fri)) #주말은 하루도 없는 것 확인\n",
        "\n",
        "x=np.arange(5)\n",
        "\n",
        "xvalue=[1,2,3,4,5]\n",
        "yvalue=[int(mon[\"중식계\"].mean()),int(tue[\"중식계\"].mean()),int(wed[\"중식계\"].mean()),int(thu[\"중식계\"].mean()),int(fri[\"중식계\"].mean())]\n",
        "\n",
        "plt.title(\"Lunch\")\n",
        "plt.xticks(x,xvalue)\n",
        "plt.bar(x,yvalue)\n",
        "\n",
        "plt.show() #매우 유의미함\n",
        "\n",
        "x=np.arange(5)\n",
        "\n",
        "xvalue=[1,2,3,4,5]\n",
        "yvalue=[int(mon[\"석식계\"].mean()),int(tue[\"석식계\"].mean()),int(wed[\"석식계\"].mean()),int(thu[\"석식계\"].mean()),int(fri[\"석식계\"].mean())]\n",
        "\n",
        "plt.title(\"Dinner\")\n",
        "plt.xticks(x,xvalue)\n",
        "plt.bar(x,yvalue)\n",
        "\n",
        "plt.show() #매우 유의미함"
      ],
      "metadata": {
        "colab": {
          "base_uri": "https://localhost:8080/",
          "height": 545
        },
        "id": "0N_DL4eFRHxu",
        "outputId": "89d8485e-6c81-49eb-9fe4-d836eff5fe6c"
      },
      "execution_count": 197,
      "outputs": [
        {
          "output_type": "display_data",
          "data": {
            "text/plain": [
              "<Figure size 432x288 with 1 Axes>"
            ],
            "image/png": "[encoded data removed]"
          },
          "metadata": {
            "needs_background": "light"
          }
        },
        {
          "output_type": "display_data",
          "data": {
            "text/plain": [
              "<Figure size 432x288 with 1 Axes>"
            ],
            "image/png": "[encoded data removed]"
          },
          "metadata": {
            "needs_background": "light"
          }
        }
      ]
    },
    {
      "cell_type": "markdown",
      "source": [
        "# 월말 월초, 연말 연초에 따른 분석"
      ],
      "metadata": {
        "id": "Qg0--ir8VWYc"
      }
    },
    {
      "cell_type": "code",
      "source": [
        "from numpy.core.numeric import outer\n",
        "df_train['일자'] = pd.to_datetime(df_train['일자'])\n",
        "\n",
        "# Extract the day component of the dates\n",
        "df_train['일자'] = df_train['일자'].dt.day\n",
        "\n",
        "# Print the updated DataFrame\n",
        "month_beginning=[df_train[df_train['일자']==1],df_train[df_train['일자']==2],df_train[df_train['일자']==3],df_train[df_train['일자']==4],df_train[df_train['일자']==5]]\n",
        "month_ending=[df_train[df_train['일자']==31],df_train[df_train['일자']==30],df_train[df_train['일자']==29],df_train[df_train['일자']==28],df_train[df_train['일자']==27],df_train[df_train['일자']==26]]\n",
        "\n",
        "for i in range(5):\n",
        "  month_middle=pd.merge(df_train,month_beginning[i],how='outer')\n",
        "  month_middle=pd.merge(df_train,month_ending[i],how='outer')\n",
        "\n",
        "month_middle=pd.merge(df_train,month_ending[5],how='outer')\n",
        "\n",
        "\n",
        "\n",
        "x=np.arange(3)\n",
        "\n",
        "xvalue=[\"month_beginning\",\"month_ending\",\"month_middle\"]\n",
        "yvalue=[(month_beginning[0]['중식계'].mean()+month_beginning[1]['중식계'].mean()+month_beginning[2]['중식계'].mean()+month_beginning[3]['중식계'].mean()+month_beginning[4]['중식계'].mean())/5,\n",
        "        (month_ending[0]['중식계'].mean()+month_ending[1]['중식계'].mean()+month_ending[2]['중식계'].mean()+month_ending[3]['중식계'].mean()+month_ending[4]['중식계'].mean()+month_ending[5]['중식계'].mean())/6,\n",
        "        month_middle['중식계'].mean()]\n",
        "\n",
        "plt.title(\"Lunch\")\n",
        "plt.xticks(x,xvalue)\n",
        "plt.bar(x,yvalue)\n",
        "\n",
        "plt.show()\n",
        "\n",
        "#월말이 좀 낮음\n",
        "\n",
        "xvalue=[\"month_beginning\",\"month_ending\",\"month_middle\"]\n",
        "yvalue=[(month_beginning[0]['석식계'].mean()+month_beginning[1]['석식계'].mean()+month_beginning[2]['석식계'].mean()+month_beginning[3]['석식계'].mean()+month_beginning[4]['석식계'].mean())/5,\n",
        "        (month_ending[0]['석식계'].mean()+month_ending[1]['석식계'].mean()+month_ending[2]['석식계'].mean()+month_ending[3]['석식계'].mean()+month_ending[4]['석식계'].mean()+month_ending[5]['석식계'].mean())/6,\n",
        "        month_middle['석식계'].mean()]\n",
        "\n",
        "plt.title(\"Dinner\")\n",
        "plt.xticks(x,xvalue)\n",
        "plt.bar(x,yvalue)\n",
        "\n",
        "plt.show()\n",
        "\n",
        "#마찬가지로 월말이 좀 낮음"
      ],
      "metadata": {
        "id": "NVZuB0KWVflk",
        "colab": {
          "base_uri": "https://localhost:8080/",
          "height": 547
        },
        "outputId": "1401d083-d8af-4fa1-eaa8-30b0ef86aa47"
      },
      "execution_count": 198,
      "outputs": [
        {
          "output_type": "display_data",
          "data": {
            "text/plain": [
              "<Figure size 432x288 with 1 Axes>"
            ],
            "image/png": "[encoded data removed]"
          },
          "metadata": {
            "needs_background": "light"
          }
        },
        {
          "output_type": "display_data",
          "data": {
            "text/plain": [
              "<Figure size 432x288 with 1 Axes>"
            ],
            "image/png": "[encoded data removed]"
          },
          "metadata": {
            "needs_background": "light"
          }
        }
      ]
    },
    {
      "cell_type": "code",
      "source": [
        "df_train=pd.read_csv('/content/drive/MyDrive/LHTrainTest/train.csv')\n",
        "\n",
        "df_train['일자'] = pd.to_datetime(df_train['일자'])\n",
        "\n",
        "# Extract the day component of the dates\n",
        "df_train['일자'] = df_train['일자'].dt.month\n",
        "\n",
        "# Print the updated DataFrame\n",
        "year_beginning=df_train[df_train['일자']==1]\n",
        "year_ending=df_train[df_train['일자']==12]\n",
        "\n",
        "year_middle=pd.merge(df_train,year_beginning,how='outer')\n",
        "year_middle=pd.merge(df_train,year_ending,how='outer')\n",
        "\n",
        "\n",
        "x=np.arange(3)\n",
        "\n",
        "xvalue=[\"year_beginning\",\"year_ending\",\"year_middle\"]\n",
        "yvalue=[year_beginning['중식계'].mean(),\n",
        "        year_ending['중식계'].mean(),\n",
        "        year_middle['중식계'].mean()]\n",
        "\n",
        "plt.title(\"Lunch\")\n",
        "plt.xticks(x,xvalue)\n",
        "plt.bar(x,yvalue)\n",
        "\n",
        "plt.show()\n",
        "\n",
        "#연말이 좀 낮음\n",
        "\n",
        "xvalue=[\"year_beginning\",\"year_ending\",\"year_middle\"]\n",
        "yvalue=[year_beginning['석식계'].mean(),\n",
        "        year_ending['석식계'].mean(),\n",
        "        year_middle['석식계'].mean()]\n",
        "\n",
        "plt.title(\"Dinner\")\n",
        "plt.xticks(x,xvalue)\n",
        "plt.bar(x,yvalue)\n",
        "\n",
        "plt.show()"
      ],
      "metadata": {
        "colab": {
          "base_uri": "https://localhost:8080/",
          "height": 547
        },
        "id": "51PgMTIn_4Py",
        "outputId": "51a293c3-776e-4f72-fd5c-82aaa8d2c281"
      },
      "execution_count": 200,
      "outputs": [
        {
          "output_type": "display_data",
          "data": {
            "text/plain": [
              "<Figure size 432x288 with 1 Axes>"
            ],
            "image/png": "[encoded data removed]"
          },
          "metadata": {
            "needs_background": "light"
          }
        },
        {
          "output_type": "display_data",
          "data": {
            "text/plain": [
              "<Figure size 432x288 with 1 Axes>"
            ],
            "image/png": "[encoded data removed]"
          },
          "metadata": {
            "needs_background": "light"
          }
        }
      ]
    },
    {
      "cell_type": "markdown",
      "source": [
        "# 출장 인원 등 빼버리기"
      ],
      "metadata": {
        "id": "MTJiZJM03efi"
      }
    },
    {
      "cell_type": "code",
      "source": [],
      "metadata": {
        "id": "1JTPdIdT3qoJ"
      },
      "execution_count": null,
      "outputs": []
    }
  ]
}